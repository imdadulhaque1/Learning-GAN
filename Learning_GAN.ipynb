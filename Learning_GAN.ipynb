{
 "cells": [
  {
   "cell_type": "markdown",
   "id": "aefab6e6",
   "metadata": {},
   "source": [
    "# Generator Implementation using Kears  Model"
   ]
  },
  {
   "cell_type": "code",
   "execution_count": null,
   "id": "5ef31517",
   "metadata": {},
   "outputs": [],
   "source": []
  },
  {
   "cell_type": "code",
   "execution_count": 3,
   "id": "2641c51f",
   "metadata": {},
   "outputs": [],
   "source": [
    "from keras.models import Sequential\n",
    "from keras.layers import Dense, BatchNormalization, Reshape"
   ]
  },
  {
   "cell_type": "code",
   "execution_count": 8,
   "id": "ddcb5e83",
   "metadata": {},
   "outputs": [],
   "source": [
    "generator = Sequential()\n",
    "generator.add(Dense(128, activation='relu', input_shape=(100,)))\n",
    "generator.add(BatchNormalization())\n",
    "\n",
    "kernel_size = 128;\n",
    "for i in range(3):\n",
    "    kernel_size = kernel_size*2\n",
    "    generator.add(Dense(kernel_size, activation='relu'))\n",
    "    generator.add(BatchNormalization())\n",
    "    \n",
    "generator.add(Dense(28*28*1, activation=\"relu\"))\n",
    "generator.add(Reshape((28,28,1)))"
   ]
  },
  {
   "cell_type": "code",
   "execution_count": null,
   "id": "42608dc5",
   "metadata": {},
   "outputs": [],
   "source": []
  }
 ],
 "metadata": {
  "kernelspec": {
   "display_name": "Python 3 (ipykernel)",
   "language": "python",
   "name": "python3"
  },
  "language_info": {
   "codemirror_mode": {
    "name": "ipython",
    "version": 3
   },
   "file_extension": ".py",
   "mimetype": "text/x-python",
   "name": "python",
   "nbconvert_exporter": "python",
   "pygments_lexer": "ipython3",
   "version": "3.9.7"
  }
 },
 "nbformat": 4,
 "nbformat_minor": 5
}
