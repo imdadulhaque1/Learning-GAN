{
 "cells": [
  {
   "cell_type": "markdown",
   "id": "e87add74",
   "metadata": {},
   "source": [
    "# Generator Implementation using Kears  Model"
   ]
  },
  {
   "cell_type": "code",
   "execution_count": null,
   "id": "ca225e99",
   "metadata": {},
   "outputs": [],
   "source": []
  },
  {
   "cell_type": "code",
   "execution_count": 13,
   "id": "dfdbecf1",
   "metadata": {},
   "outputs": [],
   "source": [
    "from keras.models import Sequential\n",
    "from keras.layers import Dense, BatchNormalization, Reshape, Flatten"
   ]
  },
  {
   "cell_type": "code",
   "execution_count": 8,
   "id": "bf5912f8",
   "metadata": {},
   "outputs": [],
   "source": [
    "generator = Sequential()\n",
    "generator.add(Dense(128, activation='relu', input_shape=(100,)))\n",
    "generator.add(BatchNormalization())\n",
    "\n",
    "kernel_size = 128;\n",
    "for i in range(3):\n",
    "    kernel_size = kernel_size*2\n",
    "    generator.add(Dense(kernel_size, activation='relu'))\n",
    "    generator.add(BatchNormalization())\n",
    "    \n",
    "generator.add(Dense(28*28*1, activation=\"relu\"))\n",
    "generator.add(Reshape((28,28,1)))"
   ]
  },
  {
   "cell_type": "code",
   "execution_count": 10,
   "id": "f0352397",
   "metadata": {},
   "outputs": [],
   "source": [
    "generator.compile(loss=\"binary_crossentropy\", optimizer=\"adam\")"
   ]
  },
  {
   "cell_type": "code",
   "execution_count": 11,
   "id": "52f76c13",
   "metadata": {},
   "outputs": [
    {
     "name": "stdout",
     "output_type": "stream",
     "text": [
      "Model: \"sequential_4\"\n",
      "_________________________________________________________________\n",
      " Layer (type)                Output Shape              Param #   \n",
      "=================================================================\n",
      " dense_17 (Dense)            (None, 128)               12928     \n",
      "                                                                 \n",
      " batch_normalization_13 (Bat  (None, 128)              512       \n",
      " chNormalization)                                                \n",
      "                                                                 \n",
      " dense_18 (Dense)            (None, 256)               33024     \n",
      "                                                                 \n",
      " batch_normalization_14 (Bat  (None, 256)              1024      \n",
      " chNormalization)                                                \n",
      "                                                                 \n",
      " dense_19 (Dense)            (None, 512)               131584    \n",
      "                                                                 \n",
      " batch_normalization_15 (Bat  (None, 512)              2048      \n",
      " chNormalization)                                                \n",
      "                                                                 \n",
      " dense_20 (Dense)            (None, 1024)              525312    \n",
      "                                                                 \n",
      " batch_normalization_16 (Bat  (None, 1024)             4096      \n",
      " chNormalization)                                                \n",
      "                                                                 \n",
      " dense_21 (Dense)            (None, 784)               803600    \n",
      "                                                                 \n",
      " reshape_2 (Reshape)         (None, 28, 28, 1)         0         \n",
      "                                                                 \n",
      "=================================================================\n",
      "Total params: 1,514,128\n",
      "Trainable params: 1,510,288\n",
      "Non-trainable params: 3,840\n",
      "_________________________________________________________________\n"
     ]
    }
   ],
   "source": [
    "generator.summary()"
   ]
  },
  {
   "cell_type": "markdown",
   "id": "0f528123",
   "metadata": {},
   "source": [
    "# Discriminator Implementation using Kears Model"
   ]
  },
  {
   "cell_type": "code",
   "execution_count": 14,
   "id": "f0c53b32",
   "metadata": {},
   "outputs": [],
   "source": [
    "discriminator = Sequential()\n",
    "discriminator.add(Flatten(input_shape=(28,28,1)))\n",
    "discriminator.add(Dense(1024, activation='relu', input_shape=(28*28*1, )))\n",
    "discriminator.add(Dense(512, activation='relu'))\n",
    "discriminator.add(Dense(256, activation='relu'))\n",
    "discriminator.add(Dense(128, activation='relu'))\n",
    "\n",
    "discriminator.add(Dense(1, activation='sigmoid'))"
   ]
  },
  {
   "cell_type": "code",
   "execution_count": 16,
   "id": "419cee90",
   "metadata": {},
   "outputs": [],
   "source": [
    "discriminator.compile(loss=\"binary_crossentropy\", optimizer=\"adam\")"
   ]
  },
  {
   "cell_type": "code",
   "execution_count": 17,
   "id": "719a1507",
   "metadata": {},
   "outputs": [
    {
     "name": "stdout",
     "output_type": "stream",
     "text": [
      "Model: \"sequential_6\"\n",
      "_________________________________________________________________\n",
      " Layer (type)                Output Shape              Param #   \n",
      "=================================================================\n",
      " flatten (Flatten)           (None, 784)               0         \n",
      "                                                                 \n",
      " dense_22 (Dense)            (None, 1024)              803840    \n",
      "                                                                 \n",
      " dense_23 (Dense)            (None, 512)               524800    \n",
      "                                                                 \n",
      " dense_24 (Dense)            (None, 256)               131328    \n",
      "                                                                 \n",
      " dense_25 (Dense)            (None, 128)               32896     \n",
      "                                                                 \n",
      " dense_26 (Dense)            (None, 1)                 129       \n",
      "                                                                 \n",
      "=================================================================\n",
      "Total params: 1,492,993\n",
      "Trainable params: 1,492,993\n",
      "Non-trainable params: 0\n",
      "_________________________________________________________________\n"
     ]
    }
   ],
   "source": [
    "discriminator.summary()"
   ]
  },
  {
   "cell_type": "markdown",
   "id": "64a8ab3d",
   "metadata": {},
   "source": [
    "# Adversarial (GAN) Network Implementions"
   ]
  },
  {
   "cell_type": "code",
   "execution_count": 18,
   "id": "bcd69475",
   "metadata": {},
   "outputs": [],
   "source": [
    "gan = Sequential()\n",
    "discriminator.tainable = False\n",
    "generator.tainable = True\n",
    "\n",
    "gan.add(generator)\n",
    "gan.add(discriminator)"
   ]
  },
  {
   "cell_type": "code",
   "execution_count": 19,
   "id": "1db429be",
   "metadata": {},
   "outputs": [],
   "source": [
    "gan.compile(loss='binary_crossentropy', optimizer='adam')"
   ]
  },
  {
   "cell_type": "code",
   "execution_count": 20,
   "id": "69d005dd",
   "metadata": {},
   "outputs": [
    {
     "name": "stdout",
     "output_type": "stream",
     "text": [
      "Model: \"sequential_7\"\n",
      "_________________________________________________________________\n",
      " Layer (type)                Output Shape              Param #   \n",
      "=================================================================\n",
      " sequential_4 (Sequential)   (None, 28, 28, 1)         1514128   \n",
      "                                                                 \n",
      " sequential_6 (Sequential)   (None, 1)                 1492993   \n",
      "                                                                 \n",
      "=================================================================\n",
      "Total params: 3,007,121\n",
      "Trainable params: 3,003,281\n",
      "Non-trainable params: 3,840\n",
      "_________________________________________________________________\n"
     ]
    }
   ],
   "source": [
    "gan.summary()"
   ]
  },
  {
   "cell_type": "code",
   "execution_count": null,
   "id": "231f0489",
   "metadata": {},
   "outputs": [],
   "source": []
  }
 ],
 "metadata": {
  "kernelspec": {
   "display_name": "Python 3 (ipykernel)",
   "language": "python",
   "name": "python3"
  },
  "language_info": {
   "codemirror_mode": {
    "name": "ipython",
    "version": 3
   },
   "file_extension": ".py",
   "mimetype": "text/x-python",
   "name": "python",
   "nbconvert_exporter": "python",
   "pygments_lexer": "ipython3",
   "version": "3.9.7"
  }
 },
 "nbformat": 4,
 "nbformat_minor": 5
}
