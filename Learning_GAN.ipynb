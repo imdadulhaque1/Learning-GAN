{
 "cells": [
  {
   "cell_type": "markdown",
   "id": "0a9828f6",
   "metadata": {},
   "source": [
    "# Generator Implementation using Kears  Model"
   ]
  },
  {
   "cell_type": "code",
   "execution_count": null,
   "id": "aa996600",
   "metadata": {},
   "outputs": [],
   "source": []
  },
  {
   "cell_type": "code",
   "execution_count": 13,
   "id": "b5bc7221",
   "metadata": {},
   "outputs": [],
   "source": [
    "from keras.models import Sequential\n",
    "from keras.layers import Dense, BatchNormalization, Reshape, Flatten"
   ]
  },
  {
   "cell_type": "code",
   "execution_count": 8,
   "id": "4f791b08",
   "metadata": {},
   "outputs": [],
   "source": [
    "generator = Sequential()\n",
    "generator.add(Dense(128, activation='relu', input_shape=(100,)))\n",
    "generator.add(BatchNormalization())\n",
    "\n",
    "kernel_size = 128;\n",
    "for i in range(3):\n",
    "    kernel_size = kernel_size*2\n",
    "    generator.add(Dense(kernel_size, activation='relu'))\n",
    "    generator.add(BatchNormalization())\n",
    "    \n",
    "generator.add(Dense(28*28*1, activation=\"relu\"))\n",
    "generator.add(Reshape((28,28,1)))"
   ]
  },
  {
   "cell_type": "code",
   "execution_count": 10,
   "id": "4a0b474b",
   "metadata": {},
   "outputs": [],
   "source": [
    "generator.compile(loss=\"binary_crossentropy\", optimizer=\"adam\")"
   ]
  },
  {
   "cell_type": "code",
   "execution_count": 11,
   "id": "e01e2df7",
   "metadata": {},
   "outputs": [
    {
     "name": "stdout",
     "output_type": "stream",
     "text": [
      "Model: \"sequential_4\"\n",
      "_________________________________________________________________\n",
      " Layer (type)                Output Shape              Param #   \n",
      "=================================================================\n",
      " dense_17 (Dense)            (None, 128)               12928     \n",
      "                                                                 \n",
      " batch_normalization_13 (Bat  (None, 128)              512       \n",
      " chNormalization)                                                \n",
      "                                                                 \n",
      " dense_18 (Dense)            (None, 256)               33024     \n",
      "                                                                 \n",
      " batch_normalization_14 (Bat  (None, 256)              1024      \n",
      " chNormalization)                                                \n",
      "                                                                 \n",
      " dense_19 (Dense)            (None, 512)               131584    \n",
      "                                                                 \n",
      " batch_normalization_15 (Bat  (None, 512)              2048      \n",
      " chNormalization)                                                \n",
      "                                                                 \n",
      " dense_20 (Dense)            (None, 1024)              525312    \n",
      "                                                                 \n",
      " batch_normalization_16 (Bat  (None, 1024)             4096      \n",
      " chNormalization)                                                \n",
      "                                                                 \n",
      " dense_21 (Dense)            (None, 784)               803600    \n",
      "                                                                 \n",
      " reshape_2 (Reshape)         (None, 28, 28, 1)         0         \n",
      "                                                                 \n",
      "=================================================================\n",
      "Total params: 1,514,128\n",
      "Trainable params: 1,510,288\n",
      "Non-trainable params: 3,840\n",
      "_________________________________________________________________\n"
     ]
    }
   ],
   "source": [
    "generator.summary()"
   ]
  },
  {
   "cell_type": "markdown",
   "id": "59df50a2",
   "metadata": {},
   "source": [
    "# Discriminator Implementation using Kears Model"
   ]
  },
  {
   "cell_type": "code",
   "execution_count": 14,
   "id": "e2f51f0e",
   "metadata": {},
   "outputs": [],
   "source": [
    "discriminator = Sequential()\n",
    "discriminator.add(Flatten(input_shape=(28,28,1)))\n",
    "discriminator.add(Dense(1024, activation='relu', input_shape=(28*28*1, )))\n",
    "discriminator.add(Dense(512, activation='relu'))\n",
    "discriminator.add(Dense(256, activation='relu'))\n",
    "discriminator.add(Dense(128, activation='relu'))\n",
    "\n",
    "discriminator.add(Dense(1, activation='sigmoid'))"
   ]
  },
  {
   "cell_type": "code",
   "execution_count": 16,
   "id": "12e55f3d",
   "metadata": {},
   "outputs": [],
   "source": [
    "discriminator.compile(loss=\"binary_crossentropy\", optimizer=\"adam\")"
   ]
  },
  {
   "cell_type": "code",
   "execution_count": 17,
   "id": "75093b63",
   "metadata": {},
   "outputs": [
    {
     "name": "stdout",
     "output_type": "stream",
     "text": [
      "Model: \"sequential_6\"\n",
      "_________________________________________________________________\n",
      " Layer (type)                Output Shape              Param #   \n",
      "=================================================================\n",
      " flatten (Flatten)           (None, 784)               0         \n",
      "                                                                 \n",
      " dense_22 (Dense)            (None, 1024)              803840    \n",
      "                                                                 \n",
      " dense_23 (Dense)            (None, 512)               524800    \n",
      "                                                                 \n",
      " dense_24 (Dense)            (None, 256)               131328    \n",
      "                                                                 \n",
      " dense_25 (Dense)            (None, 128)               32896     \n",
      "                                                                 \n",
      " dense_26 (Dense)            (None, 1)                 129       \n",
      "                                                                 \n",
      "=================================================================\n",
      "Total params: 1,492,993\n",
      "Trainable params: 1,492,993\n",
      "Non-trainable params: 0\n",
      "_________________________________________________________________\n"
     ]
    }
   ],
   "source": [
    "discriminator.summary()"
   ]
  },
  {
   "cell_type": "markdown",
   "id": "b6343a6f",
   "metadata": {},
   "source": [
    "# Adversarial (GAN) Network Implementions"
   ]
  },
  {
   "cell_type": "code",
   "execution_count": null,
   "id": "925ca3b4",
   "metadata": {},
   "outputs": [],
   "source": [
    "gan = Sequential()\n",
    "discriminator.tainable = False\n",
    "generator.tainable = True"
   ]
  }
 ],
 "metadata": {
  "kernelspec": {
   "display_name": "Python 3 (ipykernel)",
   "language": "python",
   "name": "python3"
  },
  "language_info": {
   "codemirror_mode": {
    "name": "ipython",
    "version": 3
   },
   "file_extension": ".py",
   "mimetype": "text/x-python",
   "name": "python",
   "nbconvert_exporter": "python",
   "pygments_lexer": "ipython3",
   "version": "3.9.7"
  }
 },
 "nbformat": 4,
 "nbformat_minor": 5
}
